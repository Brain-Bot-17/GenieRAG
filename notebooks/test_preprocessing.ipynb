{
 "cells": [
  {
   "cell_type": "code",
   "execution_count": 5,
   "metadata": {},
   "outputs": [
    {
     "name": "stdout",
     "output_type": "stream",
     "text": [
      "Artificial Intelligence: Transforming the Future \n",
      "Artificial Intelligence (AI) is no longer a concept confined to science fiction; it has become an \n",
      "integral part of our daily lives, revolutionizing various industries and enhancing the way we \n",
      "interact with technology. From voice assistants like Siri and Alexa to advanced healthcare \n",
      "solutions, AI is transforming the future in unprecedented ways. \n",
      "What is Artificial Intelligence? \n",
      "Artificial Intelligence refers to the simulation of human intelli\n",
      "Total chunks: 9\n",
      "Sample chunk:\n",
      " Artificial Intelligence: Transforming the Future \n",
      "Artificial Intelligence (AI) is no longer a concept confined to science fiction; it has become an \n",
      "integral part of our daily lives, revolutionizing various industries and enhancing the way we \n",
      "interact with technology. From voice assistants like Siri and Alexa to advanced healthcare \n",
      "solutions, AI is transforming the future in unprecedented ways. \n",
      "What is Artificial Intelligence?\n"
     ]
    }
   ],
   "source": [
    "import os\n",
    "import sys\n",
    "\n",
    "# Add the src directory to the Python path\n",
    "sys.path.append(os.path.abspath(os.path.join(os.getcwd(), '..', 'src')))\n",
    "\n",
    "from preprocessing.extract_text import extract_text_pymupdf\n",
    "from preprocessing.chunk_text import chunk_text\n",
    "\n",
    "# Test PDF extraction\n",
    "pdf_file = \"C:/Users/HP/OneDrive/Desktop/GenieRAG\\data/raw/Artificial_intelligence.pdf\"\n",
    "text = extract_text_pymupdf(pdf_file)\n",
    "print(text[:500])  # Show first 500 characters\n",
    "\n",
    "# Test chunking\n",
    "chunks = chunk_text(text)\n",
    "print(f\"Total chunks: {len(chunks)}\")\n",
    "print(\"Sample chunk:\\n\", chunks[0])\n"
   ]
  }
 ],
 "metadata": {
  "kernelspec": {
   "display_name": "venv",
   "language": "python",
   "name": "python3"
  },
  "language_info": {
   "codemirror_mode": {
    "name": "ipython",
    "version": 3
   },
   "file_extension": ".py",
   "mimetype": "text/x-python",
   "name": "python",
   "nbconvert_exporter": "python",
   "pygments_lexer": "ipython3",
   "version": "3.11.9"
  }
 },
 "nbformat": 4,
 "nbformat_minor": 2
}
