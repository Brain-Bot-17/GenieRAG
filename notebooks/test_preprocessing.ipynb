{
 "cells": [
  {
   "cell_type": "code",
   "execution_count": 7,
   "metadata": {},
   "outputs": [
    {
     "name": "stdout",
     "output_type": "stream",
     "text": [
      "A Deep Learning Approach for Early Stress Detection Using\n",
      "Electrodermal Activity through Wearable Devices\n",
      "Ashutosh Singh†\n",
      ", Amit Kumar\n",
      ", Khushdeep Singh\n",
      ", and Santosh Kumar\n",
      "Department of Data Science and Artificial Intelligence\n",
      "IIIT Naya Raipur, Chhattisgarh, India, 493661\n",
      "ashutoshs22102@iiitnr.edu.in, amit22102@iiitnr.edu.in,\n",
      "khushdeep22102@iiitnr.edu.in, santosh@iiitnr.edu.in\n",
      "Abstract. Stress is a critical health issue with significant implications for both physical and\n",
      "mental well-being. Earl\n",
      "Total chunks: 101\n",
      "Sample chunk:\n",
      " A Deep Learning Approach for Early Stress Detection Using\n",
      "Electrodermal Activity through Wearable Devices\n",
      "Ashutosh Singh†\n",
      ", Amit Kumar\n",
      ", Khushdeep Singh\n",
      ", and Santosh Kumar\n",
      "Department of Data Science and Artificial Intelligence\n",
      "IIIT Naya Raipur, Chhattisgarh, India, 493661\n",
      "ashutoshs22102@iiitnr.edu.in, amit22102@iiitnr.edu.in,\n",
      "khushdeep22102@iiitnr.edu.in, santosh@iiitnr.edu.in\n",
      "Abstract. Stress is a critical health issue with significant implications for both physical and\n"
     ]
    }
   ],
   "source": [
    "import os\n",
    "import sys\n",
    "\n",
    "# Add the src directory to the Python path\n",
    "sys.path.append(os.path.abspath(os.path.join(os.getcwd(), '..', 'src')))\n",
    "\n",
    "from preprocessing.extract_text import extract_text_pymupdf\n",
    "from preprocessing.chunk_text import chunk_text\n",
    "\n",
    "# Test PDF extraction\n",
    "pdf_file = \"C:/Users/HP/OneDrive/Desktop/GenieRAG/data/raw/sample.pdf\"\n",
    "text = extract_text_pymupdf(pdf_file)\n",
    "print(text[:500])  # Show first 500 characters\n",
    "\n",
    "# Test chunking\n",
    "chunks = chunk_text(text)\n",
    "print(f\"Total chunks: {len(chunks)}\")\n",
    "print(\"Sample chunk:\\n\", chunks[0])\n"
   ]
  }
 ],
 "metadata": {
  "kernelspec": {
   "display_name": "venv",
   "language": "python",
   "name": "python3"
  },
  "language_info": {
   "codemirror_mode": {
    "name": "ipython",
    "version": 3
   },
   "file_extension": ".py",
   "mimetype": "text/x-python",
   "name": "python",
   "nbconvert_exporter": "python",
   "pygments_lexer": "ipython3",
   "version": "3.11.9"
  }
 },
 "nbformat": 4,
 "nbformat_minor": 2
}
